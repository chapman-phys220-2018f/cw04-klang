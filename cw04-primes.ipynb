{
 "cells": [
  {
   "cell_type": "code",
   "execution_count": 14,
   "metadata": {
    "collapsed": false
   },
   "outputs": [
   ],
   "source": [
    "import primes as pr\n",
    "import timeit"
   ]
  },
  {
   "cell_type": "markdown",
   "metadata": {
    "collapsed": false
   },
   "source": [
    "# The Sieve of Eratosthenes\n",
    "\n",
    "The sieve of eratosthenes is a method for determining prime numbers.  The algorithm starts with some finite set of numbers of size $n$, and then performs $\\sqrt{n}$ computations to remove all non-prime numbers from the set.  More specifically, by checking if every number in the collection is divisible by a factor of $t$ where $2 \\leq t \\leq \\sqrt{n}$, the sieve can effectively remove all non-prime numbers from the set.\n",
    "For this program, lists were chosen as the data structure.  Lists are dynamic in size, allowing them to grow and shrink as needed for the size of the input $n$.  Additionally, lists offer the ability to create a new list from the difference of two exiting lists in a very concise mannner.  Lists also offer quick access to the final element of their entourage, which makes them very clean to use in the generator function.  Finally, the simplicity of the list made it ideal for the task.  While other data structures like dictionaries offer more power, their additional functions would not have added much utility to the algorithm in question.\n",
    "The final computational complexity of the program was $O(n\\sqrt{n})$.  This is the best possible complexity for the sieve, as while it only needs to use $\\sqrt{n}$ comparators, it must make comparisons to every element in the set.  A possible improvement would be to remove the need for double comparisons; perhaps a dynamically-resizing structure which could remove non-primes as they are found would offer a better $\\Omega$ performance."
   ]
  },
  {
   "cell_type": "code",
   "execution_count": 3,
   "metadata": {
    "collapsed": false
   },
   "outputs": [
    {
     "name": "stdout",
     "output_type": "stream",
     "text": [
      "[2, 3, 5, 7, 11, 13, 17, 19, 23, 29, 31, 37, 41, 43, 47, 53, 59, 61, 67, 71, 73, 79, 83, 89, 97]\n",
      "[2, 3, 5, 7, 11, 13, 17, 19, 23, 29, 31, 37, 41, 43, 47, 53, 59, 61, 67, 71]\n"
     ]
    }
   ],
   "source": [
    "print(pr.eratosthenes(100))"
   ]
  },
  {
   "cell_type": "markdown",
   "metadata": {
    "collapsed": false
   },
   "source": [
    "## Generating Prime Numbers\n",
    "\n",
    "In addition to running the sieve for a group of primes less than a certain number, they can also be generated incrementally.  To do this, the same sieve is used as above.  However, now the new numbers to be checked are simply appended to the list, instead of being generated before hand.  The list is run through the same number of checks, only this time the function will repeat until it finds the next new prime number.  To accomplish this, a copy of the previous prime number is stored and every repetition checks if the last entry of the prime number list is the same as the stored number.  If not, the number is printed and then the stored number is updated.  Since this program only has to check if new list additions are prime numbers, instead of checking the whole list every run, it will likely be more efficient.  The primary draw of this method is that the small numbers do not have to be checked against large values of $\\sqrt{n}$, as it is known from the algorithm that they are already sieved enough to determine if they are prime.  This drastically decreases the number of required computations for large values of $\\sqrt{n}$."
   ]
  },
  {
   "cell_type": "code",
   "execution_count": 4,
   "metadata": {
    "collapsed": false
   },
   "outputs": [
    {
     "name": "stdout",
     "output_type": "stream",
     "text": [
      "[2, 3, 5, 7, 11, 13, 17, 19, 23, 29, 31, 37, 41, 43, 47, 53, 59, 61, 67, 71]\n"
     ]
    }
   ],
   "source": [
    "x = pr.gen_eratosthenes()\n",
    "print([next(x) for _ in range(20)])"
   ]
  },
  {
   "cell_type": "markdown",
   "metadata": {
    "collapsed": false
   },
   "source": [
    "## Benchmarking Implementations\n",
    "\n",
    "By using the \"%time\" and \"%timeit\" commands, the python code can be timed to see how long the exection takes.  The two functions will subsequently be benchmared using large input sets, in this case $n = 100000$.  This $n$ will result in the generation of 9,592 prime numbers, which will subsequently be the number primes the second function generate."
   ]
  },
  {
   "cell_type": "code",
   "execution_count": 29,
   "metadata": {
    "collapsed": false,
    "scrolled": true
   },
   "outputs": [
    {
     "name": "stdout",
     "output_type": "stream",
     "text": [
      "4min 27s ± 3.56 s per loop (mean ± std. dev. of 7 runs, 1 loop each)\n"
     ]
    }
   ],
   "source": [
    "%timeit x = pr.eratosthenes(100000)"
   ]
  },
  {
   "cell_type": "code",
   "execution_count": 27,
   "metadata": {
    "collapsed": false,
    "scrolled": true
   },
   "outputs": [
    {
     "name": "stdout",
     "output_type": "stream",
     "text": [
      "1.08 s ± 233 ms per loop (mean ± std. dev. of 7 runs, 1 loop each)\n"
     ]
    }
   ],
   "source": [
    "y = pr.gen_eratosthenes()\n",
    "%timeit primes = [next(y) for _ in range(9592)]"
   ]
  },
  {
   "cell_type": "markdown",
   "metadata": {
    "collapsed": false
   },
   "source": [
    "As expected, the second run was drastically faster than the first.  The addition of a stopping condition which allowed the program to stop comparisons as soon as it reached a factor of the number helped to drastically improve the runtime of the program.  The average runtime of the full list generator was 267 s $\\pm$ 3.56 s, and the average runtime of the individual generator was 1.08 s $\\pm$ 0.233 s.  This gives us a speedup factor of 247.2, which is an incredible degree faster.  The prediction that the second implementation would be faster was indeed correct, but was not expected to be this drastic."
   ]
  }
 ],
 "metadata": {
  "kernelspec": {
   "display_name": "Python 3 (Anaconda 5)",
   "language": "python",
   "name": "anaconda5"
  },
  "language_info": {
   "codemirror_mode": {
    "name": "ipython",
    "version": 3
   },
   "file_extension": ".py",
   "mimetype": "text/x-python",
   "name": "python",
   "nbconvert_exporter": "python",
   "pygments_lexer": "ipython3",
   "version": "3.6.5"
  }
 },
 "nbformat": 4,
 "nbformat_minor": 0
}